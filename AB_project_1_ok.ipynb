{
 "cells": [
  {
   "cell_type": "markdown",
   "id": "ac663237",
   "metadata": {
    "id": "ac663237"
   },
   "source": [
    "<center><span style=\"font-size:36px;\">Анализ гипотез и A/B тестов. </span></center>"
   ]
  },
  {
   "cell_type": "markdown",
   "id": "42356d83",
   "metadata": {
    "id": "42356d83"
   },
   "source": [
    "# Описание проекта"
   ]
  },
  {
   "cell_type": "markdown",
   "id": "32c49228",
   "metadata": {
    "id": "32c49228"
   },
   "source": [
    "Нужно приоретизировать гипотезы, подготовленные вместе с маркетинговым отделом. Запустить А/В тесты и проанализировать их результаты.\n",
    "\n",
    "Проект состоит из двух частей. В каждая часть делиться на задачи:\n",
    "  * Часть 1. Приоритизация гипотез.\n",
    "      * Задача\n",
    "        * Примените фреймворк ICE для приоритизации гипотез. Отсортируйте их по убыванию приоритета.\n",
    "        \n",
    "        * Примените фреймворк RICE для приоритизации гипотез. Отсортируйте их по убыванию приоритета.\n",
    "        \n",
    "        * Укажите, как изменилась приоритизация гипотез при применении RICE вместо ICE. Объясните, почему так произошло.\n",
    "      \n",
    "  * Часть 2. Анализ A/B-теста.\n",
    "  \n",
    "      * Проанализируйте A/B-тест:\n",
    "      \n",
    "        * Постройте график кумулятивной выручки по группам. Сделайте выводы и предположения.\n",
    "        \n",
    "        * Постройте график кумулятивного среднего чека по группам. Сделайте выводы и предположения.\n",
    "        \n",
    "        * Постройте график относительного изменения кумулятивного среднего чека группы B к группе A. Сделайте выводы и предположения.\n",
    "        \n",
    "        * Постройте график кумулятивного среднего количества заказов на посетителя по группам. Сделайте выводы и предположения.\n",
    "        \n",
    "        * Постройте график относительного изменения кумулятивного среднего количества заказов на посетителя группы B к группе A. Сделайте выводы и предположения.\n",
    "        \n",
    "        * Постройте точечный график количества заказов по пользователям. Сделайте выводы и предположения.\n",
    "        \n",
    "        * Посчитайте 95-й и 99-й перцентили количества заказов на пользователя. Выберите границу для определения аномальных пользователей.\n",
    "        \n",
    "        * Постройте точечный график стоимостей заказов. Сделайте выводы и предположения.\n",
    "        \n",
    "        * Посчитайте 95-й и 99-й перцентили стоимости заказов. Выберите границу для определения аномальных заказов.\n",
    "        \n",
    "        * Посчитайте статистическую значимость различий в среднем количестве заказов на посетителя между группами по «сырым» данным. Сделайте выводы и предположения.\n",
    "        \n",
    "        * Посчитайте статистическую значимость различий в среднем чеке заказа между группами по «сырым» данным. Сделайте выводы и предположения.\n",
    "        \n",
    "        * Посчитайте статистическую значимость различий в среднем количестве заказов на посетителя между группами по «очищенным» данным. Сделайте выводы и предположения.\n",
    "        \n",
    "        * Посчитайте статистическую значимость различий в среднем чеке заказа между группами по «очищенным» данным. Сделайте выводы и предположения.\n",
    "        \n",
    "        * Примите решение по результатам теста и объясните его. Варианты решений:\n",
    "          1. Остановить тест, зафиксировать победу одной из групп.\n",
    "          2. Остановить тест, зафиксировать отсутствие различий между группами.\n",
    "          3. Продолжить тест."
   ]
  },
  {
   "cell_type": "markdown",
   "id": "b75b5ceb",
   "metadata": {
    "id": "b75b5ceb"
   },
   "source": [
    "## Описание данных"
   ]
  },
  {
   "cell_type": "markdown",
   "id": "c33b4637",
   "metadata": {
    "id": "c33b4637"
   },
   "source": [
    "Файл **```hypothesis.csv```**:\n",
    "\n",
    "* Hypothesis — краткое описание гипотезы;\n",
    "* Reach — охват пользователей по 10-балльной шкале;\n",
    "* Impact — влияние на пользователей по 10-балльной шкале;\n",
    "* Confidence — уверенность в гипотезе по 10-балльной шкале;\n",
    "* Efforts — затраты ресурсов на проверку гипотезы по 10-балльной шкале. Чем больше значение Efforts, тем дороже проверка гипотезы.\n",
    "    \n",
    "Файл **```orders.csv```**:\n",
    "\n",
    "*    transactionId — идентификатор заказа;\n",
    "*    visitorId — идентификатор пользователя, совершившего заказ;\n",
    "*    date — дата, когда был совершён заказ;\n",
    "*    revenue — выручка заказа;\n",
    "*    group — группа A/B-теста, в которую попал заказ.\n",
    "\n",
    "Файл **```visitors.csv```**:\n",
    "\n",
    "* date — дата;\n",
    "* group — группа A/B-теста;\n",
    "* visitors — количество пользователей в указанную дату в указанной группе A/B-теста"
   ]
  },
  {
   "cell_type": "markdown",
   "id": "1531df7d",
   "metadata": {
    "id": "1531df7d"
   },
   "source": [
    "## Цели исследования"
   ]
  },
  {
   "cell_type": "markdown",
   "id": "7fb08f82",
   "metadata": {
    "id": "7fb08f82"
   },
   "source": [
    "* выбор и проверка гипотез на A/B тестах.\n",
    "* принять решение по результатам исследования"
   ]
  },
  {
   "cell_type": "markdown",
   "id": "6060347e",
   "metadata": {
    "id": "6060347e"
   },
   "source": [
    "# Загрузка данных и подготовка к анализу"
   ]
  },
  {
   "cell_type": "code",
   "execution_count": null,
   "id": "5fcd21dc",
   "metadata": {
    "id": "5fcd21dc"
   },
   "outputs": [],
   "source": [
    "import pandas as pd\n",
    "import scipy.stats as stats\n",
    "import datetime as dt\n",
    "import numpy as np\n",
    "from scipy import stats as st\n",
    "import matplotlib.pyplot as plt\n",
    "from pandas.plotting import register_matplotlib_converters"
   ]
  },
  {
   "cell_type": "code",
   "execution_count": null,
   "id": "6db4133a",
   "metadata": {
    "id": "6db4133a"
   },
   "outputs": [],
   "source": [
    "# конвертеры, которые позволяют использовать типы pandas в matplotlib\n",
    "register_matplotlib_converters()"
   ]
  },
  {
   "cell_type": "code",
   "execution_count": null,
   "id": "9c3c24e0",
   "metadata": {
    "id": "9c3c24e0"
   },
   "outputs": [],
   "source": [
    "try:\n",
    "    visits = pd.read_csv('visitors.csv')\n",
    "    orders = pd.read_csv('orders.csv')\n",
    "    hypothesis = pd.read_csv('hypothesis.csv')\n",
    "except:\n",
    "    visits = pd.read_csv('https://code.s3.yandex.net/datasets/visitors.csv')\n",
    "    orders = pd.read_csv('https://code.s3.yandex.net/datasets/orders.csv')\n",
    "    hypothesis = pd.read_csv('https://code.s3.yandex.net/datasets/hypothesis.csv')"
   ]
  },
  {
   "cell_type": "code",
   "execution_count": null,
   "id": "7a2067d3",
   "metadata": {
    "id": "7a2067d3",
    "outputId": "63d00646-30a4-4470-9886-69568576593b"
   },
   "outputs": [
    {
     "data": {
      "text/html": [
       "<div>\n",
       "<style scoped>\n",
       "    .dataframe tbody tr th:only-of-type {\n",
       "        vertical-align: middle;\n",
       "    }\n",
       "\n",
       "    .dataframe tbody tr th {\n",
       "        vertical-align: top;\n",
       "    }\n",
       "\n",
       "    .dataframe thead th {\n",
       "        text-align: right;\n",
       "    }\n",
       "</style>\n",
       "<table border=\"1\" class=\"dataframe\">\n",
       "  <thead>\n",
       "    <tr style=\"text-align: right;\">\n",
       "      <th></th>\n",
       "      <th>date</th>\n",
       "      <th>group</th>\n",
       "      <th>visitors</th>\n",
       "    </tr>\n",
       "  </thead>\n",
       "  <tbody>\n",
       "    <tr>\n",
       "      <th>0</th>\n",
       "      <td>2019-08-01</td>\n",
       "      <td>A</td>\n",
       "      <td>719</td>\n",
       "    </tr>\n",
       "    <tr>\n",
       "      <th>1</th>\n",
       "      <td>2019-08-02</td>\n",
       "      <td>A</td>\n",
       "      <td>619</td>\n",
       "    </tr>\n",
       "    <tr>\n",
       "      <th>2</th>\n",
       "      <td>2019-08-03</td>\n",
       "      <td>A</td>\n",
       "      <td>507</td>\n",
       "    </tr>\n",
       "    <tr>\n",
       "      <th>3</th>\n",
       "      <td>2019-08-04</td>\n",
       "      <td>A</td>\n",
       "      <td>717</td>\n",
       "    </tr>\n",
       "    <tr>\n",
       "      <th>4</th>\n",
       "      <td>2019-08-05</td>\n",
       "      <td>A</td>\n",
       "      <td>756</td>\n",
       "    </tr>\n",
       "  </tbody>\n",
       "</table>\n",
       "</div>"
      ],
      "text/plain": [
       "         date group  visitors\n",
       "0  2019-08-01     A       719\n",
       "1  2019-08-02     A       619\n",
       "2  2019-08-03     A       507\n",
       "3  2019-08-04     A       717\n",
       "4  2019-08-05     A       756"
      ]
     },
     "metadata": {},
     "output_type": "display_data"
    },
    {
     "name": "stdout",
     "output_type": "stream",
     "text": [
      "\n",
      "<class 'pandas.core.frame.DataFrame'>\n",
      "RangeIndex: 62 entries, 0 to 61\n",
      "Data columns (total 3 columns):\n",
      " #   Column    Non-Null Count  Dtype \n",
      "---  ------    --------------  ----- \n",
      " 0   date      62 non-null     object\n",
      " 1   group     62 non-null     object\n",
      " 2   visitors  62 non-null     int64 \n",
      "dtypes: int64(1), object(2)\n",
      "memory usage: 1.6+ KB\n",
      "\n",
      "0\n",
      "\n",
      "date        0.0\n",
      "group       0.0\n",
      "visitors    0.0\n",
      "dtype: float64\n",
      "\n"
     ]
    },
    {
     "data": {
      "text/html": [
       "<div>\n",
       "<style scoped>\n",
       "    .dataframe tbody tr th:only-of-type {\n",
       "        vertical-align: middle;\n",
       "    }\n",
       "\n",
       "    .dataframe tbody tr th {\n",
       "        vertical-align: top;\n",
       "    }\n",
       "\n",
       "    .dataframe thead th {\n",
       "        text-align: right;\n",
       "    }\n",
       "</style>\n",
       "<table border=\"1\" class=\"dataframe\">\n",
       "  <thead>\n",
       "    <tr style=\"text-align: right;\">\n",
       "      <th></th>\n",
       "      <th>transactionId</th>\n",
       "      <th>visitorId</th>\n",
       "      <th>date</th>\n",
       "      <th>revenue</th>\n",
       "      <th>group</th>\n",
       "    </tr>\n",
       "  </thead>\n",
       "  <tbody>\n",
       "    <tr>\n",
       "      <th>0</th>\n",
       "      <td>3667963787</td>\n",
       "      <td>3312258926</td>\n",
       "      <td>2019-08-15</td>\n",
       "      <td>1650</td>\n",
       "      <td>B</td>\n",
       "    </tr>\n",
       "    <tr>\n",
       "      <th>1</th>\n",
       "      <td>2804400009</td>\n",
       "      <td>3642806036</td>\n",
       "      <td>2019-08-15</td>\n",
       "      <td>730</td>\n",
       "      <td>B</td>\n",
       "    </tr>\n",
       "    <tr>\n",
       "      <th>2</th>\n",
       "      <td>2961555356</td>\n",
       "      <td>4069496402</td>\n",
       "      <td>2019-08-15</td>\n",
       "      <td>400</td>\n",
       "      <td>A</td>\n",
       "    </tr>\n",
       "    <tr>\n",
       "      <th>3</th>\n",
       "      <td>3797467345</td>\n",
       "      <td>1196621759</td>\n",
       "      <td>2019-08-15</td>\n",
       "      <td>9759</td>\n",
       "      <td>B</td>\n",
       "    </tr>\n",
       "    <tr>\n",
       "      <th>4</th>\n",
       "      <td>2282983706</td>\n",
       "      <td>2322279887</td>\n",
       "      <td>2019-08-15</td>\n",
       "      <td>2308</td>\n",
       "      <td>B</td>\n",
       "    </tr>\n",
       "  </tbody>\n",
       "</table>\n",
       "</div>"
      ],
      "text/plain": [
       "   transactionId   visitorId        date  revenue group\n",
       "0     3667963787  3312258926  2019-08-15     1650     B\n",
       "1     2804400009  3642806036  2019-08-15      730     B\n",
       "2     2961555356  4069496402  2019-08-15      400     A\n",
       "3     3797467345  1196621759  2019-08-15     9759     B\n",
       "4     2282983706  2322279887  2019-08-15     2308     B"
      ]
     },
     "metadata": {},
     "output_type": "display_data"
    },
    {
     "name": "stdout",
     "output_type": "stream",
     "text": [
      "\n",
      "<class 'pandas.core.frame.DataFrame'>\n",
      "RangeIndex: 1197 entries, 0 to 1196\n",
      "Data columns (total 5 columns):\n",
      " #   Column         Non-Null Count  Dtype \n",
      "---  ------         --------------  ----- \n",
      " 0   transactionId  1197 non-null   int64 \n",
      " 1   visitorId      1197 non-null   int64 \n",
      " 2   date           1197 non-null   object\n",
      " 3   revenue        1197 non-null   int64 \n",
      " 4   group          1197 non-null   object\n",
      "dtypes: int64(3), object(2)\n",
      "memory usage: 46.9+ KB\n",
      "\n",
      "0\n",
      "\n",
      "transactionId    0.0\n",
      "visitorId        0.0\n",
      "date             0.0\n",
      "revenue          0.0\n",
      "group            0.0\n",
      "dtype: float64\n",
      "\n"
     ]
    }
   ],
   "source": [
    "# проверим данные\n",
    "list_0 = [visits, orders]\n",
    "\n",
    "for i in list_0:\n",
    "    display(i.head())\n",
    "    print('')\n",
    "    i.info()\n",
    "    print('')\n",
    "    print(i.duplicated().sum())\n",
    "    print('')\n",
    "    print(i.isna().mean())\n",
    "    print('')"
   ]
  },
  {
   "cell_type": "markdown",
   "id": "1ec8c2dc",
   "metadata": {
    "id": "1ec8c2dc"
   },
   "source": [
    "### Вывод"
   ]
  },
  {
   "cell_type": "markdown",
   "id": "44673e7a",
   "metadata": {
    "id": "44673e7a"
   },
   "source": [
    "В данных нет дубликатов или пропусков."
   ]
  },
  {
   "cell_type": "markdown",
   "id": "a6c22cb7",
   "metadata": {
    "id": "a6c22cb7"
   },
   "source": [
    "# Предобработка данных"
   ]
  },
  {
   "cell_type": "code",
   "execution_count": null,
   "id": "3bf663d1",
   "metadata": {
    "id": "3bf663d1",
    "outputId": "8c208e54-de58-42d4-ce38-b599e518ff0c"
   },
   "outputs": [
    {
     "data": {
      "text/html": [
       "<div>\n",
       "<style scoped>\n",
       "    .dataframe tbody tr th:only-of-type {\n",
       "        vertical-align: middle;\n",
       "    }\n",
       "\n",
       "    .dataframe tbody tr th {\n",
       "        vertical-align: top;\n",
       "    }\n",
       "\n",
       "    .dataframe thead th {\n",
       "        text-align: right;\n",
       "    }\n",
       "</style>\n",
       "<table border=\"1\" class=\"dataframe\">\n",
       "  <thead>\n",
       "    <tr style=\"text-align: right;\">\n",
       "      <th></th>\n",
       "      <th>date</th>\n",
       "      <th>group</th>\n",
       "      <th>visitors</th>\n",
       "    </tr>\n",
       "  </thead>\n",
       "  <tbody>\n",
       "    <tr>\n",
       "      <th>0</th>\n",
       "      <td>2019-08-01</td>\n",
       "      <td>A</td>\n",
       "      <td>719</td>\n",
       "    </tr>\n",
       "    <tr>\n",
       "      <th>1</th>\n",
       "      <td>2019-08-02</td>\n",
       "      <td>A</td>\n",
       "      <td>619</td>\n",
       "    </tr>\n",
       "    <tr>\n",
       "      <th>2</th>\n",
       "      <td>2019-08-03</td>\n",
       "      <td>A</td>\n",
       "      <td>507</td>\n",
       "    </tr>\n",
       "    <tr>\n",
       "      <th>3</th>\n",
       "      <td>2019-08-04</td>\n",
       "      <td>A</td>\n",
       "      <td>717</td>\n",
       "    </tr>\n",
       "    <tr>\n",
       "      <th>4</th>\n",
       "      <td>2019-08-05</td>\n",
       "      <td>A</td>\n",
       "      <td>756</td>\n",
       "    </tr>\n",
       "    <tr>\n",
       "      <th>...</th>\n",
       "      <td>...</td>\n",
       "      <td>...</td>\n",
       "      <td>...</td>\n",
       "    </tr>\n",
       "    <tr>\n",
       "      <th>57</th>\n",
       "      <td>2019-08-27</td>\n",
       "      <td>B</td>\n",
       "      <td>720</td>\n",
       "    </tr>\n",
       "    <tr>\n",
       "      <th>58</th>\n",
       "      <td>2019-08-28</td>\n",
       "      <td>B</td>\n",
       "      <td>654</td>\n",
       "    </tr>\n",
       "    <tr>\n",
       "      <th>59</th>\n",
       "      <td>2019-08-29</td>\n",
       "      <td>B</td>\n",
       "      <td>531</td>\n",
       "    </tr>\n",
       "    <tr>\n",
       "      <th>60</th>\n",
       "      <td>2019-08-30</td>\n",
       "      <td>B</td>\n",
       "      <td>490</td>\n",
       "    </tr>\n",
       "    <tr>\n",
       "      <th>61</th>\n",
       "      <td>2019-08-31</td>\n",
       "      <td>B</td>\n",
       "      <td>718</td>\n",
       "    </tr>\n",
       "  </tbody>\n",
       "</table>\n",
       "<p>62 rows × 3 columns</p>\n",
       "</div>"
      ],
      "text/plain": [
       "          date group  visitors\n",
       "0   2019-08-01     A       719\n",
       "1   2019-08-02     A       619\n",
       "2   2019-08-03     A       507\n",
       "3   2019-08-04     A       717\n",
       "4   2019-08-05     A       756\n",
       "..         ...   ...       ...\n",
       "57  2019-08-27     B       720\n",
       "58  2019-08-28     B       654\n",
       "59  2019-08-29     B       531\n",
       "60  2019-08-30     B       490\n",
       "61  2019-08-31     B       718\n",
       "\n",
       "[62 rows x 3 columns]"
      ]
     },
     "execution_count": 5,
     "metadata": {},
     "output_type": "execute_result"
    }
   ],
   "source": [
    "visits"
   ]
  },
  {
   "cell_type": "code",
   "execution_count": null,
   "id": "874f74f2",
   "metadata": {
    "id": "874f74f2"
   },
   "outputs": [],
   "source": [
    "# Преобразуем дату\n",
    "\n",
    "orders['date'] = orders['date'].map(\n",
    "    lambda x: dt.datetime.strptime(x, '%Y-%m-%d')\n",
    ")\n",
    "\n",
    "visits['date'] = visits['date'].map(\n",
    "    lambda x: dt.datetime.strptime(x, '%Y-%m-%d')\n",
    ")"
   ]
  },
  {
   "cell_type": "markdown",
   "id": "ee0dd91a",
   "metadata": {
    "id": "ee0dd91a"
   },
   "source": [
    "# Приоритизация гипотез"
   ]
  },
  {
   "cell_type": "markdown",
   "id": "b04d9456",
   "metadata": {
    "id": "b04d9456"
   },
   "source": [
    "В данном шаге определимся с выбором гипотез."
   ]
  },
  {
   "cell_type": "code",
   "execution_count": null,
   "id": "793e53e4",
   "metadata": {
    "id": "793e53e4"
   },
   "outputs": [],
   "source": [
    "# уберем сокрашения в датафрейме\n",
    "pd.set_option('max_colwidth', None)"
   ]
  },
  {
   "cell_type": "code",
   "execution_count": null,
   "id": "495c2edb",
   "metadata": {
    "id": "495c2edb",
    "outputId": "1429da3a-bfc9-4415-9bc5-0582d9710f10"
   },
   "outputs": [
    {
     "data": {
      "text/html": [
       "<div>\n",
       "<style scoped>\n",
       "    .dataframe tbody tr th:only-of-type {\n",
       "        vertical-align: middle;\n",
       "    }\n",
       "\n",
       "    .dataframe tbody tr th {\n",
       "        vertical-align: top;\n",
       "    }\n",
       "\n",
       "    .dataframe thead th {\n",
       "        text-align: right;\n",
       "    }\n",
       "</style>\n",
       "<table border=\"1\" class=\"dataframe\">\n",
       "  <thead>\n",
       "    <tr style=\"text-align: right;\">\n",
       "      <th></th>\n",
       "      <th>Hypothesis</th>\n",
       "      <th>Reach</th>\n",
       "      <th>Impact</th>\n",
       "      <th>Confidence</th>\n",
       "      <th>Efforts</th>\n",
       "    </tr>\n",
       "  </thead>\n",
       "  <tbody>\n",
       "    <tr>\n",
       "      <th>0</th>\n",
       "      <td>Добавить два новых канала привлечения трафика, что позволит привлекать на 30% больше пользователей</td>\n",
       "      <td>3</td>\n",
       "      <td>10</td>\n",
       "      <td>8</td>\n",
       "      <td>6</td>\n",
       "    </tr>\n",
       "    <tr>\n",
       "      <th>1</th>\n",
       "      <td>Запустить собственную службу доставки, что сократит срок доставки заказов</td>\n",
       "      <td>2</td>\n",
       "      <td>5</td>\n",
       "      <td>4</td>\n",
       "      <td>10</td>\n",
       "    </tr>\n",
       "    <tr>\n",
       "      <th>2</th>\n",
       "      <td>Добавить блоки рекомендаций товаров на сайт интернет магазина, чтобы повысить конверсию и средний чек заказа</td>\n",
       "      <td>8</td>\n",
       "      <td>3</td>\n",
       "      <td>7</td>\n",
       "      <td>3</td>\n",
       "    </tr>\n",
       "    <tr>\n",
       "      <th>3</th>\n",
       "      <td>Изменить структура категорий, что увеличит конверсию, т.к. пользователи быстрее найдут нужный товар</td>\n",
       "      <td>8</td>\n",
       "      <td>3</td>\n",
       "      <td>3</td>\n",
       "      <td>8</td>\n",
       "    </tr>\n",
       "    <tr>\n",
       "      <th>4</th>\n",
       "      <td>Изменить цвет фона главной страницы, чтобы увеличить вовлеченность пользователей</td>\n",
       "      <td>3</td>\n",
       "      <td>1</td>\n",
       "      <td>1</td>\n",
       "      <td>1</td>\n",
       "    </tr>\n",
       "    <tr>\n",
       "      <th>5</th>\n",
       "      <td>Добавить страницу отзывов клиентов о магазине, что позволит увеличить количество заказов</td>\n",
       "      <td>3</td>\n",
       "      <td>2</td>\n",
       "      <td>2</td>\n",
       "      <td>3</td>\n",
       "    </tr>\n",
       "    <tr>\n",
       "      <th>6</th>\n",
       "      <td>Показать на главной странице баннеры с актуальными акциями и распродажами, чтобы увеличить конверсию</td>\n",
       "      <td>5</td>\n",
       "      <td>3</td>\n",
       "      <td>8</td>\n",
       "      <td>3</td>\n",
       "    </tr>\n",
       "    <tr>\n",
       "      <th>7</th>\n",
       "      <td>Добавить форму подписки на все основные страницы, чтобы собрать базу клиентов для email-рассылок</td>\n",
       "      <td>10</td>\n",
       "      <td>7</td>\n",
       "      <td>8</td>\n",
       "      <td>5</td>\n",
       "    </tr>\n",
       "    <tr>\n",
       "      <th>8</th>\n",
       "      <td>Запустить акцию, дающую скидку на товар в день рождения</td>\n",
       "      <td>1</td>\n",
       "      <td>9</td>\n",
       "      <td>9</td>\n",
       "      <td>5</td>\n",
       "    </tr>\n",
       "  </tbody>\n",
       "</table>\n",
       "</div>"
      ],
      "text/plain": [
       "                                                                                                     Hypothesis  \\\n",
       "0            Добавить два новых канала привлечения трафика, что позволит привлекать на 30% больше пользователей   \n",
       "1                                     Запустить собственную службу доставки, что сократит срок доставки заказов   \n",
       "2  Добавить блоки рекомендаций товаров на сайт интернет магазина, чтобы повысить конверсию и средний чек заказа   \n",
       "3           Изменить структура категорий, что увеличит конверсию, т.к. пользователи быстрее найдут нужный товар   \n",
       "4                              Изменить цвет фона главной страницы, чтобы увеличить вовлеченность пользователей   \n",
       "5                      Добавить страницу отзывов клиентов о магазине, что позволит увеличить количество заказов   \n",
       "6          Показать на главной странице баннеры с актуальными акциями и распродажами, чтобы увеличить конверсию   \n",
       "7              Добавить форму подписки на все основные страницы, чтобы собрать базу клиентов для email-рассылок   \n",
       "8                                                       Запустить акцию, дающую скидку на товар в день рождения   \n",
       "\n",
       "   Reach  Impact  Confidence  Efforts  \n",
       "0      3      10           8        6  \n",
       "1      2       5           4       10  \n",
       "2      8       3           7        3  \n",
       "3      8       3           3        8  \n",
       "4      3       1           1        1  \n",
       "5      3       2           2        3  \n",
       "6      5       3           8        3  \n",
       "7     10       7           8        5  \n",
       "8      1       9           9        5  "
      ]
     },
     "execution_count": 8,
     "metadata": {},
     "output_type": "execute_result"
    }
   ],
   "source": [
    "# посмотрим какие гипотезы у нас есть\n",
    "hypothesis"
   ]
  },
  {
   "cell_type": "markdown",
   "id": "1c4a9fad",
   "metadata": {
    "id": "1c4a9fad"
   },
   "source": [
    "## Фреймворк ICE"
   ]
  },
  {
   "cell_type": "code",
   "execution_count": null,
   "id": "ba5100ee",
   "metadata": {
    "id": "ba5100ee",
    "outputId": "2f2c3b19-da61-406b-b188-480901262034"
   },
   "outputs": [
    {
     "data": {
      "text/html": [
       "<div>\n",
       "<style scoped>\n",
       "    .dataframe tbody tr th:only-of-type {\n",
       "        vertical-align: middle;\n",
       "    }\n",
       "\n",
       "    .dataframe tbody tr th {\n",
       "        vertical-align: top;\n",
       "    }\n",
       "\n",
       "    .dataframe thead th {\n",
       "        text-align: right;\n",
       "    }\n",
       "</style>\n",
       "<table border=\"1\" class=\"dataframe\">\n",
       "  <thead>\n",
       "    <tr style=\"text-align: right;\">\n",
       "      <th></th>\n",
       "      <th>Hypothesis</th>\n",
       "      <th>Reach</th>\n",
       "      <th>Impact</th>\n",
       "      <th>Confidence</th>\n",
       "      <th>Efforts</th>\n",
       "      <th>ICE</th>\n",
       "    </tr>\n",
       "  </thead>\n",
       "  <tbody>\n",
       "    <tr>\n",
       "      <th>8</th>\n",
       "      <td>Запустить акцию, дающую скидку на товар в день рождения</td>\n",
       "      <td>1</td>\n",
       "      <td>9</td>\n",
       "      <td>9</td>\n",
       "      <td>5</td>\n",
       "      <td>16.20</td>\n",
       "    </tr>\n",
       "    <tr>\n",
       "      <th>0</th>\n",
       "      <td>Добавить два новых канала привлечения трафика, что позволит привлекать на 30% больше пользователей</td>\n",
       "      <td>3</td>\n",
       "      <td>10</td>\n",
       "      <td>8</td>\n",
       "      <td>6</td>\n",
       "      <td>13.33</td>\n",
       "    </tr>\n",
       "    <tr>\n",
       "      <th>7</th>\n",
       "      <td>Добавить форму подписки на все основные страницы, чтобы собрать базу клиентов для email-рассылок</td>\n",
       "      <td>10</td>\n",
       "      <td>7</td>\n",
       "      <td>8</td>\n",
       "      <td>5</td>\n",
       "      <td>11.20</td>\n",
       "    </tr>\n",
       "    <tr>\n",
       "      <th>6</th>\n",
       "      <td>Показать на главной странице баннеры с актуальными акциями и распродажами, чтобы увеличить конверсию</td>\n",
       "      <td>5</td>\n",
       "      <td>3</td>\n",
       "      <td>8</td>\n",
       "      <td>3</td>\n",
       "      <td>8.00</td>\n",
       "    </tr>\n",
       "    <tr>\n",
       "      <th>2</th>\n",
       "      <td>Добавить блоки рекомендаций товаров на сайт интернет магазина, чтобы повысить конверсию и средний чек заказа</td>\n",
       "      <td>8</td>\n",
       "      <td>3</td>\n",
       "      <td>7</td>\n",
       "      <td>3</td>\n",
       "      <td>7.00</td>\n",
       "    </tr>\n",
       "    <tr>\n",
       "      <th>1</th>\n",
       "      <td>Запустить собственную службу доставки, что сократит срок доставки заказов</td>\n",
       "      <td>2</td>\n",
       "      <td>5</td>\n",
       "      <td>4</td>\n",
       "      <td>10</td>\n",
       "      <td>2.00</td>\n",
       "    </tr>\n",
       "    <tr>\n",
       "      <th>5</th>\n",
       "      <td>Добавить страницу отзывов клиентов о магазине, что позволит увеличить количество заказов</td>\n",
       "      <td>3</td>\n",
       "      <td>2</td>\n",
       "      <td>2</td>\n",
       "      <td>3</td>\n",
       "      <td>1.33</td>\n",
       "    </tr>\n",
       "    <tr>\n",
       "      <th>3</th>\n",
       "      <td>Изменить структура категорий, что увеличит конверсию, т.к. пользователи быстрее найдут нужный товар</td>\n",
       "      <td>8</td>\n",
       "      <td>3</td>\n",
       "      <td>3</td>\n",
       "      <td>8</td>\n",
       "      <td>1.12</td>\n",
       "    </tr>\n",
       "    <tr>\n",
       "      <th>4</th>\n",
       "      <td>Изменить цвет фона главной страницы, чтобы увеличить вовлеченность пользователей</td>\n",
       "      <td>3</td>\n",
       "      <td>1</td>\n",
       "      <td>1</td>\n",
       "      <td>1</td>\n",
       "      <td>1.00</td>\n",
       "    </tr>\n",
       "  </tbody>\n",
       "</table>\n",
       "</div>"
      ],
      "text/plain": [
       "                                                                                                     Hypothesis  \\\n",
       "8                                                       Запустить акцию, дающую скидку на товар в день рождения   \n",
       "0            Добавить два новых канала привлечения трафика, что позволит привлекать на 30% больше пользователей   \n",
       "7              Добавить форму подписки на все основные страницы, чтобы собрать базу клиентов для email-рассылок   \n",
       "6          Показать на главной странице баннеры с актуальными акциями и распродажами, чтобы увеличить конверсию   \n",
       "2  Добавить блоки рекомендаций товаров на сайт интернет магазина, чтобы повысить конверсию и средний чек заказа   \n",
       "1                                     Запустить собственную службу доставки, что сократит срок доставки заказов   \n",
       "5                      Добавить страницу отзывов клиентов о магазине, что позволит увеличить количество заказов   \n",
       "3           Изменить структура категорий, что увеличит конверсию, т.к. пользователи быстрее найдут нужный товар   \n",
       "4                              Изменить цвет фона главной страницы, чтобы увеличить вовлеченность пользователей   \n",
       "\n",
       "   Reach  Impact  Confidence  Efforts    ICE  \n",
       "8      1       9           9        5  16.20  \n",
       "0      3      10           8        6  13.33  \n",
       "7     10       7           8        5  11.20  \n",
       "6      5       3           8        3   8.00  \n",
       "2      8       3           7        3   7.00  \n",
       "1      2       5           4       10   2.00  \n",
       "5      3       2           2        3   1.33  \n",
       "3      8       3           3        8   1.12  \n",
       "4      3       1           1        1   1.00  "
      ]
     },
     "execution_count": 9,
     "metadata": {},
     "output_type": "execute_result"
    }
   ],
   "source": [
    "hypothesis['ICE'] = round(hypothesis['Impact']*hypothesis['Confidence']/hypothesis['Efforts'], 2)\n",
    "hypothesis.sort_values(by='ICE',\n",
    "                       ascending=False)"
   ]
  },
  {
   "cell_type": "markdown",
   "id": "b9b96bc4",
   "metadata": {
    "id": "b9b96bc4"
   },
   "source": [
    "### Вывод"
   ]
  },
  {
   "cell_type": "markdown",
   "id": "995d9baf",
   "metadata": {
    "id": "995d9baf"
   },
   "source": [
    "По методу рассчета приорета ICE, на первом месте на тестирование гипотеза - ```Запустить акцию, дающую скидку на товар в день рождения```"
   ]
  },
  {
   "cell_type": "markdown",
   "id": "8c7fc3b0",
   "metadata": {
    "id": "8c7fc3b0"
   },
   "source": [
    "## Фреймворк RICE"
   ]
  },
  {
   "cell_type": "code",
   "execution_count": null,
   "id": "d1992acc",
   "metadata": {
    "id": "d1992acc"
   },
   "outputs": [],
   "source": [
    "hypothesis['RICE'] = round(hypothesis['Impact']*hypothesis['Confidence']* hypothesis['Reach'] / hypothesis['Efforts'], 2)"
   ]
  },
  {
   "cell_type": "code",
   "execution_count": null,
   "id": "e40c9066",
   "metadata": {
    "id": "e40c9066",
    "outputId": "ad380c3f-874e-482d-8be0-96a307e754ff"
   },
   "outputs": [
    {
     "data": {
      "text/html": [
       "<div>\n",
       "<style scoped>\n",
       "    .dataframe tbody tr th:only-of-type {\n",
       "        vertical-align: middle;\n",
       "    }\n",
       "\n",
       "    .dataframe tbody tr th {\n",
       "        vertical-align: top;\n",
       "    }\n",
       "\n",
       "    .dataframe thead th {\n",
       "        text-align: right;\n",
       "    }\n",
       "</style>\n",
       "<table border=\"1\" class=\"dataframe\">\n",
       "  <thead>\n",
       "    <tr style=\"text-align: right;\">\n",
       "      <th></th>\n",
       "      <th>Hypothesis</th>\n",
       "      <th>Reach</th>\n",
       "      <th>Impact</th>\n",
       "      <th>Confidence</th>\n",
       "      <th>Efforts</th>\n",
       "      <th>ICE</th>\n",
       "      <th>RICE</th>\n",
       "    </tr>\n",
       "  </thead>\n",
       "  <tbody>\n",
       "    <tr>\n",
       "      <th>7</th>\n",
       "      <td>Добавить форму подписки на все основные страницы, чтобы собрать базу клиентов для email-рассылок</td>\n",
       "      <td>10</td>\n",
       "      <td>7</td>\n",
       "      <td>8</td>\n",
       "      <td>5</td>\n",
       "      <td>11.20</td>\n",
       "      <td>112.0</td>\n",
       "    </tr>\n",
       "    <tr>\n",
       "      <th>2</th>\n",
       "      <td>Добавить блоки рекомендаций товаров на сайт интернет магазина, чтобы повысить конверсию и средний чек заказа</td>\n",
       "      <td>8</td>\n",
       "      <td>3</td>\n",
       "      <td>7</td>\n",
       "      <td>3</td>\n",
       "      <td>7.00</td>\n",
       "      <td>56.0</td>\n",
       "    </tr>\n",
       "    <tr>\n",
       "      <th>0</th>\n",
       "      <td>Добавить два новых канала привлечения трафика, что позволит привлекать на 30% больше пользователей</td>\n",
       "      <td>3</td>\n",
       "      <td>10</td>\n",
       "      <td>8</td>\n",
       "      <td>6</td>\n",
       "      <td>13.33</td>\n",
       "      <td>40.0</td>\n",
       "    </tr>\n",
       "    <tr>\n",
       "      <th>6</th>\n",
       "      <td>Показать на главной странице баннеры с актуальными акциями и распродажами, чтобы увеличить конверсию</td>\n",
       "      <td>5</td>\n",
       "      <td>3</td>\n",
       "      <td>8</td>\n",
       "      <td>3</td>\n",
       "      <td>8.00</td>\n",
       "      <td>40.0</td>\n",
       "    </tr>\n",
       "    <tr>\n",
       "      <th>8</th>\n",
       "      <td>Запустить акцию, дающую скидку на товар в день рождения</td>\n",
       "      <td>1</td>\n",
       "      <td>9</td>\n",
       "      <td>9</td>\n",
       "      <td>5</td>\n",
       "      <td>16.20</td>\n",
       "      <td>16.2</td>\n",
       "    </tr>\n",
       "    <tr>\n",
       "      <th>3</th>\n",
       "      <td>Изменить структура категорий, что увеличит конверсию, т.к. пользователи быстрее найдут нужный товар</td>\n",
       "      <td>8</td>\n",
       "      <td>3</td>\n",
       "      <td>3</td>\n",
       "      <td>8</td>\n",
       "      <td>1.12</td>\n",
       "      <td>9.0</td>\n",
       "    </tr>\n",
       "    <tr>\n",
       "      <th>1</th>\n",
       "      <td>Запустить собственную службу доставки, что сократит срок доставки заказов</td>\n",
       "      <td>2</td>\n",
       "      <td>5</td>\n",
       "      <td>4</td>\n",
       "      <td>10</td>\n",
       "      <td>2.00</td>\n",
       "      <td>4.0</td>\n",
       "    </tr>\n",
       "    <tr>\n",
       "      <th>5</th>\n",
       "      <td>Добавить страницу отзывов клиентов о магазине, что позволит увеличить количество заказов</td>\n",
       "      <td>3</td>\n",
       "      <td>2</td>\n",
       "      <td>2</td>\n",
       "      <td>3</td>\n",
       "      <td>1.33</td>\n",
       "      <td>4.0</td>\n",
       "    </tr>\n",
       "    <tr>\n",
       "      <th>4</th>\n",
       "      <td>Изменить цвет фона главной страницы, чтобы увеличить вовлеченность пользователей</td>\n",
       "      <td>3</td>\n",
       "      <td>1</td>\n",
       "      <td>1</td>\n",
       "      <td>1</td>\n",
       "      <td>1.00</td>\n",
       "      <td>3.0</td>\n",
       "    </tr>\n",
       "  </tbody>\n",
       "</table>\n",
       "</div>"
      ],
      "text/plain": [
       "                                                                                                     Hypothesis  \\\n",
       "7              Добавить форму подписки на все основные страницы, чтобы собрать базу клиентов для email-рассылок   \n",
       "2  Добавить блоки рекомендаций товаров на сайт интернет магазина, чтобы повысить конверсию и средний чек заказа   \n",
       "0            Добавить два новых канала привлечения трафика, что позволит привлекать на 30% больше пользователей   \n",
       "6          Показать на главной странице баннеры с актуальными акциями и распродажами, чтобы увеличить конверсию   \n",
       "8                                                       Запустить акцию, дающую скидку на товар в день рождения   \n",
       "3           Изменить структура категорий, что увеличит конверсию, т.к. пользователи быстрее найдут нужный товар   \n",
       "1                                     Запустить собственную службу доставки, что сократит срок доставки заказов   \n",
       "5                      Добавить страницу отзывов клиентов о магазине, что позволит увеличить количество заказов   \n",
       "4                              Изменить цвет фона главной страницы, чтобы увеличить вовлеченность пользователей   \n",
       "\n",
       "   Reach  Impact  Confidence  Efforts    ICE   RICE  \n",
       "7     10       7           8        5  11.20  112.0  \n",
       "2      8       3           7        3   7.00   56.0  \n",
       "0      3      10           8        6  13.33   40.0  \n",
       "6      5       3           8        3   8.00   40.0  \n",
       "8      1       9           9        5  16.20   16.2  \n",
       "3      8       3           3        8   1.12    9.0  \n",
       "1      2       5           4       10   2.00    4.0  \n",
       "5      3       2           2        3   1.33    4.0  \n",
       "4      3       1           1        1   1.00    3.0  "
      ]
     },
     "execution_count": 11,
     "metadata": {},
     "output_type": "execute_result"
    }
   ],
   "source": [
    "hypothesis.sort_values(by='RICE',\n",
    "                       ascending=False)"
   ]
  },
  {
   "cell_type": "markdown",
   "id": "70a38d20",
   "metadata": {
    "id": "70a38d20"
   },
   "source": [
    "### Вывод"
   ]
  },
  {
   "cell_type": "markdown",
   "id": "ec02dd7f",
   "metadata": {
    "id": "ec02dd7f"
   },
   "source": [
    "По фрейворку RICE в приорететную гипотезу на тест у нас выпадает - ```Добавить форму подписки на все основные страницы, чтобы собрать базу клиентов для email-рассылок```."
   ]
  },
  {
   "cell_type": "markdown",
   "id": "0925e2ba",
   "metadata": {
    "id": "0925e2ba"
   },
   "source": [
    "### Общий вывод"
   ]
  },
  {
   "cell_type": "markdown",
   "id": "8c2b6e1c",
   "metadata": {
    "id": "8c2b6e1c"
   },
   "source": [
    "Проведя небольшое исследование приоретизации гипотез, видно как изменились гипотезы. По ICE первая гипотеза на тест ```Запустить акцию, дающую скидку на товар в день рождения```, а по RICE ```Добавить форму подписки на все основные страницы, чтобы собрать базу клиентов для email-рассылок```. Так же, у нас довольно сильно изменились списки гипотез на тест.\n",
    "\n",
    "Связано это с тем, что фреймворк RICE, при расчет использует дополнительный параметр - охват. Т.е. он включает оценку пользователей, которые увидят изменение."
   ]
  },
  {
   "cell_type": "markdown",
   "id": "b11dd4f5",
   "metadata": {
    "id": "b11dd4f5"
   },
   "source": [
    "# Анализ A/B-теста"
   ]
  },
  {
   "cell_type": "markdown",
   "id": "278cb05b",
   "metadata": {
    "id": "278cb05b"
   },
   "source": [
    "В перную очередь, посмотрим сколько человек входит в обе группы."
   ]
  },
  {
   "cell_type": "markdown",
   "id": "4552975a",
   "metadata": {
    "id": "4552975a"
   },
   "source": [
    "Дата начала и окончания теста."
   ]
  },
  {
   "cell_type": "code",
   "execution_count": null,
   "id": "92ee4d3b",
   "metadata": {
    "id": "92ee4d3b",
    "outputId": "3ed0a19f-78fd-4757-b037-448687ff29b4"
   },
   "outputs": [
    {
     "name": "stdout",
     "output_type": "stream",
     "text": [
      "Дата начала теста: 2019-08-01 00:00:00\n",
      "Дата окончания теста: 2019-08-31 00:00:00\n"
     ]
    }
   ],
   "source": [
    "print('Дата начала теста:',orders['date'].min())\n",
    "\n",
    "print('Дата окончания теста:', orders['date'].max())"
   ]
  },
  {
   "cell_type": "code",
   "execution_count": null,
   "id": "f6b77fc6",
   "metadata": {
    "id": "f6b77fc6",
    "outputId": "45016547-643f-4838-9257-e5d37497274c",
    "scrolled": true
   },
   "outputs": [
    {
     "name": "stdout",
     "output_type": "stream",
     "text": [
      "Пользователе входит в обе группы: group    58\n",
      "dtype: int64\n"
     ]
    }
   ],
   "source": [
    "print('Пользователе входит в обе группы:', (orders.groupby('visitorId')\n",
    "    .agg({'group': pd.Series.nunique})\n",
    "    .query('group == 2').count()))\n",
    "\n"
   ]
  },
  {
   "cell_type": "markdown",
   "id": "5062db55",
   "metadata": {
    "id": "5062db55"
   },
   "source": [
    "Посмотрим сколько пользователей в каждой группе"
   ]
  },
  {
   "cell_type": "code",
   "execution_count": null,
   "id": "c24eae5b",
   "metadata": {
    "id": "c24eae5b",
    "outputId": "a0c207f1-cac3-4dce-a061-d53ee54b349f"
   },
   "outputs": [
    {
     "name": "stdout",
     "output_type": "stream",
     "text": [
      "Общее количетсво пользователей: 1031\n",
      "Пользователей в каждой группе:\n"
     ]
    },
    {
     "data": {
      "text/html": [
       "<div>\n",
       "<style scoped>\n",
       "    .dataframe tbody tr th:only-of-type {\n",
       "        vertical-align: middle;\n",
       "    }\n",
       "\n",
       "    .dataframe tbody tr th {\n",
       "        vertical-align: top;\n",
       "    }\n",
       "\n",
       "    .dataframe thead th {\n",
       "        text-align: right;\n",
       "    }\n",
       "</style>\n",
       "<table border=\"1\" class=\"dataframe\">\n",
       "  <thead>\n",
       "    <tr style=\"text-align: right;\">\n",
       "      <th></th>\n",
       "      <th>group</th>\n",
       "      <th>visitorId</th>\n",
       "    </tr>\n",
       "  </thead>\n",
       "  <tbody>\n",
       "    <tr>\n",
       "      <th>0</th>\n",
       "      <td>A</td>\n",
       "      <td>503</td>\n",
       "    </tr>\n",
       "    <tr>\n",
       "      <th>1</th>\n",
       "      <td>B</td>\n",
       "      <td>586</td>\n",
       "    </tr>\n",
       "  </tbody>\n",
       "</table>\n",
       "</div>"
      ],
      "text/plain": [
       "  group  visitorId\n",
       "0     A        503\n",
       "1     B        586"
      ]
     },
     "execution_count": 14,
     "metadata": {},
     "output_type": "execute_result"
    }
   ],
   "source": [
    "print('Общее количетсво пользователей:', orders['visitorId'].nunique())\n",
    "\n",
    "print('Пользователей в каждой группе:')\n",
    "\n",
    "pd.pivot_table(data=orders, index='group', values='visitorId', aggfunc='nunique').reset_index()"
   ]
  },
  {
   "cell_type": "markdown",
   "id": "3ea8c5f3",
   "metadata": {
    "id": "3ea8c5f3"
   },
   "source": [
    "### Вывод"
   ]
  },
  {
   "cell_type": "markdown",
   "id": "34eeb68b",
   "metadata": {
    "id": "34eeb68b"
   },
   "source": [
    "Наш тест начался 01.08.2019го года и закончился 31.08.2019. т.е наш тест длился ровно 1 месяц.\n",
    "\n",
    "Общее количество пользователей 1031.\n",
    "\n",
    "В группу А входит:557 пользователей\n",
    "В группу В входит:640 пользователей\n",
    "\n",
    "Вроде бы различие в кол-ве пользовалей в обоих группах большое, но как бы узнаем дальше, это не статистически значимо в рамках нашего исследования.\n",
    "\n",
    "Кол-во пользователей в обеих группах 58 человек. Это не большое кол-во от общей массы в 1031 и ничего делать с ними не будем. На результаты тестов они не повлияют.\n",
    "\n"
   ]
  },
  {
   "cell_type": "markdown",
   "id": "39fae723",
   "metadata": {
    "id": "39fae723"
   },
   "source": [
    "## Создадим датайфрейм с кумуллятивами"
   ]
  },
  {
   "cell_type": "code",
   "execution_count": null,
   "id": "e499c509",
   "metadata": {
    "id": "e499c509"
   },
   "outputs": [],
   "source": [
    "\n",
    "datesGroups = orders[['date', 'group']].drop_duplicates()\n",
    "\n",
    "ordersAggregated = datesGroups.apply(\n",
    "    lambda x: orders[\n",
    "        np.logical_and(\n",
    "            orders['date'] <= x['date'],\n",
    "            orders['group'] == x['group']\n",
    "        )\n",
    "    ].agg(\n",
    "        {\n",
    "            'date': 'max',\n",
    "            'group': 'max',\n",
    "            'transactionId': 'nunique',\n",
    "            'visitorId': 'nunique',\n",
    "            'revenue': 'sum',\n",
    "        }\n",
    "    ),\n",
    "    axis=1,\n",
    ").sort_values(by=['date', 'group'])\n",
    "\n",
    "visitosAggregated = datesGroups.apply(\n",
    "    lambda x: visits[\n",
    "        np.logical_and(\n",
    "            visits['date'] <= x['date'],\n",
    "            visits['group'] == x['group']\n",
    "        )\n",
    "    ].agg({'date': 'max',\n",
    "           'group': 'max',\n",
    "           'visitors': 'sum'}),\n",
    "    axis=1,\n",
    ").sort_values(by=['date', 'group'])\n",
    "\n",
    "cumulativeData = ordersAggregated.merge(\n",
    "    visitosAggregated,\n",
    "    left_on=['date', 'group'],\n",
    "    right_on=['date', 'group']\n",
    ")\n",
    "cumulativeData.columns = [\n",
    "    'date',\n",
    "    'group',\n",
    "    'orders',\n",
    "    'buyers',\n",
    "    'revenue',\n",
    "    'visits',\n",
    "]\n",
    "\n",
    "cumulativeData['conversion'] = (\n",
    "    cumulativeData['orders'] / cumulativeData['visits']\n",
    ")\n",
    "\n",
    "# датафрейм с кумулятивным количеством заказов и кумулятивной выручкой по дням в группе А\n",
    "cumulativeRevenueA = cumulativeData[cumulativeData['group']=='A'][['date','revenue', 'orders']]\n",
    "\n",
    "# датафрейм с кумулятивным количеством заказов и кумулятивной выручкой по дням в группе B\n",
    "cumulativeRevenueB = cumulativeData[cumulativeData['group']=='B'][['date','revenue', 'orders']]"
   ]
  },
  {
   "cell_type": "markdown",
   "id": "865a812c",
   "metadata": {
    "id": "865a812c"
   },
   "source": [
    "## Куммулятивная выручка по группам"
   ]
  },
  {
   "cell_type": "code",
   "execution_count": null,
   "id": "4c7aa7cb",
   "metadata": {
    "id": "4c7aa7cb",
    "outputId": "c993ea51-0927-4962-b9f2-6d21d10d515c"
   },
   "outputs": [
    {
     "data": {
      "image/png": "[encoded data removed]",
      "text/plain": [
       "<Figure size 1080x432 with 1 Axes>"
      ]
     },
     "metadata": {
      "needs_background": "light"
     },
     "output_type": "display_data"
    }
   ],
   "source": [
    "\n",
    "plt.figure(figsize=(15, 6))\n",
    "# Строим график выручки группы А\n",
    "plt.plot(cumulativeRevenueA['date'],\n",
    "         cumulativeRevenueA['revenue'],\n",
    "         label='A')\n",
    "\n",
    "# Строим график выручки группы B\n",
    "plt.plot(cumulativeRevenueB['date'],\n",
    "         cumulativeRevenueB['revenue'],\n",
    "         label='B')\n",
    "\n",
    "plt.title('График кумулятивной выручки по группам')\n",
    "plt.ylabel('Выручка')\n",
    "plt.xlabel('Дата')\n",
    "\n",
    "plt.legend();"
   ]
  },
  {
   "cell_type": "markdown",
   "id": "56eb05a8",
   "metadata": {
    "id": "56eb05a8"
   },
   "source": [
    "### Вывод"
   ]
  },
  {
   "cell_type": "markdown",
   "id": "b8f34d10",
   "metadata": {
    "id": "b8f34d10"
   },
   "source": [
    "Выручка в течение недели шла примерно на одном уровне в обеих группа. Однако, после 17го числа, выручка в группе В резко выросла. Это может быть связано с каким-либо собитием, или что в данную группу попал кто-то с очень большим заказом"
   ]
  },
  {
   "cell_type": "code",
   "execution_count": null,
   "id": "f8a476e8",
   "metadata": {
    "id": "f8a476e8",
    "outputId": "697a4382-9aeb-48b0-c73b-5a6cf9644d5c"
   },
   "outputs": [
    {
     "name": "stdout",
     "output_type": "stream",
     "text": [
      "Максимально значение в продажах \n",
      "       transactionId   visitorId       date  revenue group\n",
      "425       590470918  1920142716 2019-08-19  1294500     B\n",
      "1196     3936777065  2108080724 2019-08-15   202740     B\n"
     ]
    }
   ],
   "source": [
    "print('Максимально значение в продажах \\n',\n",
    "      orders.query('revenue >= 200000'))"
   ]
  },
  {
   "cell_type": "markdown",
   "id": "ff3c123f",
   "metadata": {
    "id": "ff3c123f"
   },
   "source": [
    "##  Кумулятивный средний чек"
   ]
  },
  {
   "cell_type": "code",
   "execution_count": null,
   "id": "a2021f3c",
   "metadata": {
    "id": "a2021f3c",
    "outputId": "50e1073c-b211-4145-d370-acb9f8241c73"
   },
   "outputs": [
    {
     "data": {
      "image/png": "[encoded data removed]",
      "text/plain": [
       "<Figure size 1080x432 with 1 Axes>"
      ]
     },
     "metadata": {
      "needs_background": "light"
     },
     "output_type": "display_data"
    }
   ],
   "source": [
    "plt.figure(figsize=(15, 6))\n",
    "\n",
    "plt.plot(cumulativeRevenueA['date'],\n",
    "         cumulativeRevenueA['revenue']/cumulativeRevenueA['orders'],\n",
    "         label='A')\n",
    "plt.plot(cumulativeRevenueB['date'],\n",
    "         cumulativeRevenueB['revenue']/cumulativeRevenueB['orders'],\n",
    "         label='B')\n",
    "\n",
    "plt.ylabel('Средний чек')\n",
    "plt.xlabel('Дата')\n",
    "plt.title('График среднего чека по группам')\n",
    "\n",
    "plt.legend();\n",
    "\n",
    "\n",
    "\n"
   ]
  },
  {
   "cell_type": "markdown",
   "id": "d9f14eb1",
   "metadata": {
    "id": "d9f14eb1"
   },
   "source": [
    "### Вывод"
   ]
  },
  {
   "cell_type": "markdown",
   "id": "55c737b2",
   "metadata": {
    "id": "55c737b2"
   },
   "source": [
    "По данным графика видно, просадки чека на 2ой день теста. Потом он выравниется и идет примерно одинаково до конца теста. У группы В есть рост чека в начале, и просадка там, где есть повышение чека у группы А. Это может быть связано с каким-то событием. Но потом, у группы В начинается резкий рост чека. Как и было сказано выше, данное явление обьясняется очень большим заказом."
   ]
  },
  {
   "cell_type": "markdown",
   "id": "6f1aa6be",
   "metadata": {
    "id": "6f1aa6be"
   },
   "source": [
    "## Относительное изменение кумулятивного среднего чека группы В к группе А"
   ]
  },
  {
   "cell_type": "code",
   "execution_count": null,
   "id": "14155adf",
   "metadata": {
    "id": "14155adf",
    "outputId": "81d86afb-4e99-4856-bde9-bc1244a41c60"
   },
   "outputs": [
    {
     "data": {
      "image/png": "[encoded data removed]",
      "text/plain": [
       "<Figure size 1080x432 with 1 Axes>"
      ]
     },
     "metadata": {
      "needs_background": "light"
     },
     "output_type": "display_data"
    }
   ],
   "source": [
    "mergedCumulativeRevenue = cumulativeRevenueA.merge(cumulativeRevenueB, left_on='date', right_on='date', how='left', suffixes=['A', 'B'])\n",
    "# cтроим отношение средних чеков\n",
    "\n",
    "plt.figure(figsize=(15, 6))\n",
    "\n",
    "plt.plot(mergedCumulativeRevenue['date'], (mergedCumulativeRevenue['revenueB']/mergedCumulativeRevenue['ordersB'])/(mergedCumulativeRevenue['revenueA']/mergedCumulativeRevenue['ordersA'])-1)\n",
    "# добавляем ось X\n",
    "\n",
    "plt.axhline(y=0, color='orange', linestyle='--')\n",
    "\n",
    "plt.ylabel('Изменение среднего чека')\n",
    "plt.xlabel('Дата')\n",
    "plt.title('График относительного изменения кумулятивного среднего чека')\n",
    "plt.show()"
   ]
  },
  {
   "cell_type": "markdown",
   "id": "92ceee10",
   "metadata": {
    "id": "92ceee10"
   },
   "source": [
    "### Вывод"
   ]
  },
  {
   "cell_type": "markdown",
   "id": "0a4b7876",
   "metadata": {
    "id": "0a4b7876"
   },
   "source": [
    "На графике есть резкие скачки. Это связано с аномалиями в данных."
   ]
  },
  {
   "cell_type": "markdown",
   "id": "2d2c5f0e",
   "metadata": {
    "id": "2d2c5f0e"
   },
   "source": [
    "## График кумулятивного среднего количества заказов на посетителя по группам"
   ]
  },
  {
   "cell_type": "code",
   "execution_count": null,
   "id": "acfe8d7a",
   "metadata": {
    "id": "acfe8d7a",
    "outputId": "1f6e48b9-66f2-45dc-ac8a-e7b53ae1ab94"
   },
   "outputs": [
    {
     "data": {
      "image/png": "[encoded data removed]",
      "text/plain": [
       "<Figure size 1080x432 with 1 Axes>"
      ]
     },
     "metadata": {
      "needs_background": "light"
     },
     "output_type": "display_data"
    }
   ],
   "source": [
    "# считаем кумулятивную конверсию\n",
    "cumulativeData['conversion'] = cumulativeData['orders']/cumulativeData['visits']\n",
    "# отделяем данные по группе A\n",
    "cumulativeDataA = cumulativeData[cumulativeData['group']=='A']\n",
    "# отделяем данные по группе B\n",
    "cumulativeDataB = cumulativeData[cumulativeData['group']=='B']\n",
    "# строим графики\n",
    "plt.figure(figsize=(15, 6))\n",
    "\n",
    "plt.plot(cumulativeDataA['date'],\n",
    "         cumulativeDataA['conversion'],\n",
    "         label='A')\n",
    "plt.plot(cumulativeDataB['date'],\n",
    "         cumulativeDataB['conversion'],\n",
    "         label='B')\n",
    "\n",
    "plt.legend()\n",
    "\n",
    "plt.ylabel('Кумулятивная среднее кол-во заказов на посетителя по группам')\n",
    "plt.xlabel('Дата')\n",
    "plt.title('График среднее кол-во заказов на посетителя по группам');\n",
    "\n"
   ]
  },
  {
   "cell_type": "markdown",
   "id": "8a2b3bdf",
   "metadata": {
    "id": "8a2b3bdf"
   },
   "source": [
    "### Вывод"
   ]
  },
  {
   "cell_type": "markdown",
   "id": "7f2e8d2b",
   "metadata": {
    "id": "7f2e8d2b"
   },
   "source": [
    "Первую неделю, графики идут паралельно. Но после 7.05. конверсия группы В начинает падать, а конверсия группы А расти. И графики идут паралельно."
   ]
  },
  {
   "cell_type": "markdown",
   "id": "327800eb",
   "metadata": {
    "id": "327800eb"
   },
   "source": [
    "## График относительного изменения кумулятивного среднего количества заказов на посетителя группы B к группе A"
   ]
  },
  {
   "cell_type": "code",
   "execution_count": null,
   "id": "04043d13",
   "metadata": {
    "id": "04043d13",
    "outputId": "01dd9fa8-21b4-4b55-cc52-82415976fc0f"
   },
   "outputs": [
    {
     "data": {
      "image/png": "[encoded data removed]",
      "text/plain": [
       "<Figure size 1080x432 with 1 Axes>"
      ]
     },
     "metadata": {
      "needs_background": "light"
     },
     "output_type": "display_data"
    }
   ],
   "source": [
    "mergedCumulativeConversions = (cumulativeDataA[['date','orders']]\n",
    "                               .merge(cumulativeDataB[['date','orders']],\n",
    "                                      left_on='date',\n",
    "                                      right_on='date',\n",
    "                                      how='left',\n",
    "                                      suffixes=['A', 'B']))\n",
    "\n",
    "plt.figure(figsize=(15, 6))\n",
    "\n",
    "plt.plot(mergedCumulativeConversions['date'],\n",
    "         mergedCumulativeConversions['ordersB']/mergedCumulativeConversions['ordersA']-1,\n",
    "         label=\"Относительный прирост\")\n",
    "\n",
    "plt.legend()\n",
    "\n",
    "plt.axhline(y=0, color='orange',\n",
    "            linestyle='--')\n",
    "plt.axhline(y=-0.1, color='blue',\n",
    "            linestyle='--')\n",
    "\n",
    "plt.ylabel('Относительное изменение')\n",
    "plt.xlabel('Дата')\n",
    "\n",
    "plt.title('График относительного изменения кумулятивного колличества заказов на посетителя группы B к группе A');"
   ]
  },
  {
   "cell_type": "markdown",
   "id": "55183ad9",
   "metadata": {
    "id": "55183ad9"
   },
   "source": [
    "### Вывод"
   ]
  },
  {
   "cell_type": "markdown",
   "id": "082e8906",
   "metadata": {
    "id": "082e8906"
   },
   "source": [
    "В начале теста, группа В отставала от группы А. Однако, после 1й недели резко выросла относительно группы А. Кол-во заказов в групе В было больше, в среднем на 15%."
   ]
  },
  {
   "cell_type": "markdown",
   "id": "5abfcc76",
   "metadata": {
    "id": "5abfcc76"
   },
   "source": [
    "## График количества заказов по пользователям"
   ]
  },
  {
   "cell_type": "code",
   "execution_count": null,
   "id": "b1aff54e",
   "metadata": {
    "id": "b1aff54e"
   },
   "outputs": [],
   "source": [
    "# создадим таблицу с пользователями и их кол-вом заказов.\n",
    "ordersByUsers = (orders.groupby('visitorId',\n",
    "                                as_index=False)\n",
    "                 .agg({'transactionId': 'nunique'}))\n",
    "\n",
    "ordersByUsers.columns = ['visitorId', 'orders']"
   ]
  },
  {
   "cell_type": "code",
   "execution_count": null,
   "id": "ab308a4d",
   "metadata": {
    "id": "ab308a4d",
    "outputId": "ec56ce9d-7595-47e7-93be-95cdb62c0b38"
   },
   "outputs": [
    {
     "data": {
      "image/png": "[encoded data removed]",
      "text/plain": [
       "<Figure size 1080x432 with 1 Axes>"
      ]
     },
     "metadata": {
      "needs_background": "light"
     },
     "output_type": "display_data"
    }
   ],
   "source": [
    "# построим точечный график\n",
    "x_values = pd.Series(range(0,len(ordersByUsers)))\n",
    "\n",
    "plt.figure(figsize=(15, 6))\n",
    "\n",
    "plt.scatter(x_values, ordersByUsers['orders'])\n",
    "plt.ylabel('Количество заказов')\n",
    "plt.xlabel('Количество пользователей')\n",
    "plt.title('График количества заказов');"
   ]
  },
  {
   "cell_type": "markdown",
   "id": "e352f2be",
   "metadata": {
    "id": "e352f2be"
   },
   "source": [
    "### Вывод"
   ]
  },
  {
   "cell_type": "markdown",
   "id": "76a549a6",
   "metadata": {
    "id": "76a549a6"
   },
   "source": [
    "По данному графику видно, что основное кол-во заказов приходится на 1ед. товаров на пользователя. Есть те, кто так же покупает и 2ед. А так же можно сказать, штучные выбросы больше 3 заказов.\n",
    "Кол-во заказав по которым мы будет отсекать выбери 4."
   ]
  },
  {
   "cell_type": "markdown",
   "id": "252b5ff6",
   "metadata": {
    "id": "252b5ff6"
   },
   "source": [
    "## 95-й и 99-й перцентили количества заказов на пользователя"
   ]
  },
  {
   "cell_type": "code",
   "execution_count": null,
   "id": "725f5093",
   "metadata": {
    "id": "725f5093",
    "outputId": "f1c868f6-19c9-4e83-9e79-f7e0de4c7e94"
   },
   "outputs": [
    {
     "name": "stdout",
     "output_type": "stream",
     "text": [
      "95-й и 99-й перцентили = [2. 4.]\n"
     ]
    }
   ],
   "source": [
    "print('95-й и 99-й перцентили =',\n",
    "      np.percentile(ordersByUsers['orders'],\n",
    "                    [95, 99]))"
   ]
  },
  {
   "cell_type": "markdown",
   "id": "79eaa0bb",
   "metadata": {
    "id": "79eaa0bb"
   },
   "source": [
    "### Вывод"
   ]
  },
  {
   "cell_type": "markdown",
   "id": "a5f780a2",
   "metadata": {
    "id": "a5f780a2"
   },
   "source": [
    "Пользователей которые оформили заказ больше 3х раз, не более 5 процентов. Из этого можно сделать вывод, что их можно удалить как аномальные значения"
   ]
  },
  {
   "cell_type": "markdown",
   "id": "9ec0ca62",
   "metadata": {
    "id": "9ec0ca62"
   },
   "source": [
    "## Точечный график стоимостей заказов"
   ]
  },
  {
   "cell_type": "code",
   "execution_count": null,
   "id": "bd185e3c",
   "metadata": {
    "id": "bd185e3c",
    "outputId": "6fb18a0e-64f6-4a5e-9e76-0c00aa4d0a6f"
   },
   "outputs": [
    {
     "data": {
      "image/png": "[encoded data removed]",
      "text/plain": [
       "<Figure size 1080x432 with 1 Axes>"
      ]
     },
     "metadata": {
      "needs_background": "light"
     },
     "output_type": "display_data"
    }
   ],
   "source": [
    "x_values = pd.Series(range(0,len(orders['revenue'])))\n",
    "\n",
    "plt.figure(figsize=(15, 6))\n",
    "\n",
    "plt.scatter(x_values, orders['revenue'])\n",
    "plt.ylabel('Стоимость заказов')\n",
    "plt.xlabel('Количество пользователей')\n",
    "plt.title('График стоимости заказов по пользователям');"
   ]
  },
  {
   "cell_type": "code",
   "execution_count": null,
   "id": "4535ec4a",
   "metadata": {
    "id": "4535ec4a",
    "outputId": "9a5232c7-d428-4ac6-b80b-0b11d5cbb485"
   },
   "outputs": [
    {
     "data": {
      "image/png": "[encoded data removed]",
      "text/plain": [
       "<Figure size 720x288 with 1 Axes>"
      ]
     },
     "metadata": {
      "needs_background": "light"
     },
     "output_type": "display_data"
    }
   ],
   "source": [
    "x_values = pd.Series(range(0, len(orders)))\n",
    "\n",
    "plt.figure(figsize=(10,4))\n",
    "plt.scatter(x_values, orders['revenue'],\n",
    "            alpha=0.5)\n",
    "\n",
    "plt.title('Точечная диаграмма сумм заказов на одного пользователя')\n",
    "plt.axis([0, 1200, 0, 120000])\n",
    "plt.show()\n",
    "\n"
   ]
  },
  {
   "cell_type": "markdown",
   "id": "3a46b303",
   "metadata": {
    "id": "3a46b303"
   },
   "source": [
    "### Вывод"
   ]
  },
  {
   "cell_type": "markdown",
   "id": "3fc399a2",
   "metadata": {
    "id": "3fc399a2"
   },
   "source": [
    "Видно 2 аномальных значения, которые сильно выбиваются из общей массы. Данные заказы можно смело удалить, чтобы не портили картину.\n",
    "Так же видно, что в основном, стоимость заказов не превышает 40т. А большество из наших покупок меньше 20т"
   ]
  },
  {
   "cell_type": "markdown",
   "id": "55a30201",
   "metadata": {
    "id": "55a30201"
   },
   "source": [
    "## 95-й и 99-й перцентили стоимости заказов"
   ]
  },
  {
   "cell_type": "code",
   "execution_count": null,
   "id": "d69bdb9a",
   "metadata": {
    "id": "d69bdb9a",
    "outputId": "d41b6372-22d5-4dc3-dd4e-185314f626d9"
   },
   "outputs": [
    {
     "name": "stdout",
     "output_type": "stream",
     "text": [
      "95-й и 99-й перцентили = [28000.  58233.2]\n"
     ]
    }
   ],
   "source": [
    "print('95-й и 99-й перцентили =',\n",
    "      np.percentile(orders['revenue'],\n",
    "                    [95, 99]))"
   ]
  },
  {
   "cell_type": "markdown",
   "id": "4248fc80",
   "metadata": {
    "id": "4248fc80"
   },
   "source": [
    "### Вывод"
   ]
  },
  {
   "cell_type": "markdown",
   "id": "61450728",
   "metadata": {
    "id": "61450728"
   },
   "source": [
    "Меньше 5 процентов пользователей совершают покупаки дорое 28т.\n",
    "Нижнюю границу для фильтра аномалий выберем 28000 , т.к. все что выше данного числа, входит не больше 5% от всех покупок"
   ]
  },
  {
   "cell_type": "markdown",
   "id": "21544d7e",
   "metadata": {
    "id": "21544d7e"
   },
   "source": [
    "## Статистическая значимость различий в среднем количестве заказов на посетителя между группами по «сырым» данным"
   ]
  },
  {
   "cell_type": "markdown",
   "id": "fe365b79",
   "metadata": {
    "id": "fe365b79"
   },
   "source": [
    "Гипотеза:\n",
    "\n",
    "   * H0: Статистическая значимость различий в среднем количестве заказов на посетителя в \"сырых данных\" отсутствует\n",
    "   * H1: Статистическая значимость различий в среднем количестве заказов на посетителя в \"сырых данных\" есть\n",
    "\n"
   ]
  },
  {
   "cell_type": "markdown",
   "id": "fdad4af9",
   "metadata": {
    "id": "fdad4af9"
   },
   "source": [
    "Для проверки гипотез мы применим статистический критерий значимости, который использует теорию вероятностей для оценки вероятности получения результатов, которые мы наблюдаем в наших данных, если наша гипотеза верна.\n",
    "\n",
    "Мы будем использовать критерий Манна-Уитни для А/В тестирования. Данный критерий позволяет выявлять различия в значении параметра между малыми выборками\n",
    "\n",
    "Статистическую значимости определим как 5%, т.е. Альфа = 0.05\n",
    "\n",
    "Если p-value будет меньше 0.05, то значит мы отвергаем нулевую гипотерзу(Н0) в пользу альтернативной(Н1).\n"
   ]
  },
  {
   "cell_type": "markdown",
   "id": "3d5e03b6",
   "metadata": {
    "id": "3d5e03b6"
   },
   "source": [
    "Подготовим данные"
   ]
  },
  {
   "cell_type": "code",
   "execution_count": null,
   "id": "4c0de73c",
   "metadata": {
    "id": "4c0de73c",
    "outputId": "b3b22e14-c11f-4466-a31b-5f1eb3a4f56f"
   },
   "outputs": [
    {
     "name": "stdout",
     "output_type": "stream",
     "text": [
      "Количество покупателей группы А: 503\n",
      "Количество покупок группы А: 557\n",
      "Количество посетителей группы А: 18736\n",
      "\n",
      "Количество покупателей группы В: 586\n",
      "Количество покупок группы В: 640\n",
      "Количество посетителей группы В: 18916\n"
     ]
    }
   ],
   "source": [
    "ordersByUsersA = orders[orders['group']=='A'].groupby('visitorId', as_index=False).agg({'transactionId':'nunique'})\n",
    "ordersByUsersA.columns = ['visitorId', 'orders']\n",
    "\n",
    "ordersByUsersB = orders[orders['group']=='B'].groupby('visitorId', as_index=False).agg({'transactionId':'nunique'})\n",
    "ordersByUsersB.columns = ['visitorId', 'orders']\n",
    "\n",
    "print('Количество покупателей группы А: {}'.format(len(ordersByUsersA)))\n",
    "\n",
    "print('Количество покупок группы А: {}'.format(ordersByUsersA['orders'].sum()))\n",
    "\n",
    "print('Количество посетителей группы А: {}\\n'.format(visits[visits['group']=='A']['visitors'].sum()))\n",
    "\n",
    "print('Количество покупателей группы В: {}'.format(len(ordersByUsersB)))\n",
    "\n",
    "print('Количество покупок группы В: {}'.format(ordersByUsersB['orders'].sum()))\n",
    "\n",
    "print('Количество посетителей группы В: {}'.format(visits[visits['group']=='B']['visitors'].sum()))"
   ]
  },
  {
   "cell_type": "code",
   "execution_count": null,
   "id": "7bd65765",
   "metadata": {
    "id": "7bd65765"
   },
   "outputs": [],
   "source": [
    "#составим списки кол-ва заказов sampleA и sampleB со всеми пользователями (в том числе и не купившими) по группам\n",
    "list_orders_1 =[]\n",
    "for i in range(0,(visits[visits['group']=='A']['visitors'].sum()-len(ordersByUsersA))):\n",
    "    list_orders_1.append(0)\n",
    "orders_by_non_purchased_users_A = pd.Series(data = list_orders_1, name = 'orders')\n",
    "\n",
    "list_orders_2 =[]\n",
    "for i in range(0,(visits[visits['group']=='B']['visitors'].sum()-len(ordersByUsersB))):\n",
    "    list_orders_2.append(0)\n",
    "orders_by_non_purchased_users_B = pd.Series(data = list_orders_2, name = 'orders')"
   ]
  },
  {
   "cell_type": "code",
   "execution_count": null,
   "id": "ddff3ab2",
   "metadata": {
    "id": "ddff3ab2"
   },
   "outputs": [],
   "source": [
    "ordersByUsersA = (\n",
    "    orders[orders['group'] == 'A']\n",
    "    .groupby('visitorId', as_index=False)\n",
    "    .agg({'transactionId': pd.Series.nunique})\n",
    ")\n",
    "ordersByUsersA.columns = ['visitorId', 'transactionId']\n",
    "\n",
    "ordersByUsersB = (\n",
    "    orders[orders['group'] == 'B']\n",
    "    .groupby('visitorId', as_index=False)\n",
    "    .agg({'transactionId': pd.Series.nunique})\n",
    ")\n",
    "ordersByUsersB.columns = ['visitorId', 'transactionId']"
   ]
  },
  {
   "cell_type": "code",
   "execution_count": null,
   "id": "585e7a64",
   "metadata": {
    "id": "585e7a64",
    "outputId": "7f741e46-3720-447e-fe4a-cb74d3caa9d5"
   },
   "outputs": [
    {
     "name": "stdout",
     "output_type": "stream",
     "text": [
      "Значение P-value: 0.017\n",
      "Относительный прирост кол-ва заказов B по отношению к группе A: 0.138\n"
     ]
    }
   ],
   "source": [
    "sampleA = pd.concat([ordersByUsersA['transactionId'], orders_by_non_purchased_users_A], axis=0)\n",
    "sampleB = pd.concat([ordersByUsersB['transactionId'], orders_by_non_purchased_users_B], axis=0)\n",
    "\n",
    "alpha = 0.05\n",
    "results = stats.mannwhitneyu(sampleA, sampleB)\n",
    "\n",
    "print('Значение P-value:' ,\"{0:.3f}\".format(results.pvalue))\n",
    "print('Относительный прирост кол-ва заказов B по отношению к группе A: {:.3f}'.format(sampleB.mean()/sampleA.mean()-1))"
   ]
  },
  {
   "cell_type": "markdown",
   "id": "3947d92b",
   "metadata": {
    "id": "3947d92b"
   },
   "source": [
    "### Вывод"
   ]
  },
  {
   "cell_type": "markdown",
   "id": "4db9fead",
   "metadata": {
    "id": "4db9fead"
   },
   "source": [
    "По «сырым» данным различия в среднем числе заказов групп A и B есть. Относительная разница в пользу группы В = 13%"
   ]
  },
  {
   "cell_type": "markdown",
   "id": "be6f2432",
   "metadata": {
    "id": "be6f2432"
   },
   "source": [
    "## Статистическая значимость различий в среднем чеке заказа между группами по «сырым» данным"
   ]
  },
  {
   "cell_type": "markdown",
   "id": "9a05db26",
   "metadata": {
    "id": "9a05db26"
   },
   "source": [
    "Гипотеза:\n",
    "\n",
    "  * H0: Статистическая значимость различий в среднем чеке заказа между группами в \"сырых данных\" отсутствует\n",
    "  * H1: Статистическая значимость различий в среднем чеке заказа между группами  в \"сырых данных\" есть\n",
    "    "
   ]
  },
  {
   "cell_type": "code",
   "execution_count": null,
   "id": "9339d6be",
   "metadata": {
    "id": "9339d6be",
    "outputId": "ddec4b04-3ba6-4aa9-cb30-07d9cde3dd6b"
   },
   "outputs": [
    {
     "name": "stdout",
     "output_type": "stream",
     "text": [
      "p-value,  0.729\n",
      "Относительная разница величин: 0.259\n"
     ]
    }
   ],
   "source": [
    "print('p-value, ', '{0:.3f}'.format(stats.mannwhitneyu(orders[orders['group']=='A']['revenue'],\n",
    "                                          orders[orders['group']=='B']['revenue'])[1]))\n",
    "print('Относительная разница величин:' ,'{0:.3f}'.format(orders[orders['group']=='B']['revenue']\n",
    "                       .mean()/orders[orders['group']=='A']['revenue']\n",
    "                       .mean()-1))"
   ]
  },
  {
   "cell_type": "markdown",
   "id": "45493e87",
   "metadata": {
    "id": "45493e87"
   },
   "source": [
    "### Вывод"
   ]
  },
  {
   "cell_type": "markdown",
   "id": "1c7ebfc8",
   "metadata": {
    "id": "1c7ebfc8"
   },
   "source": [
    "p-value = 0.729 значит разница не статистически значима. Относительная разница в среднем чеке 25%"
   ]
  },
  {
   "cell_type": "markdown",
   "id": "38c6263e",
   "metadata": {
    "id": "38c6263e"
   },
   "source": [
    "## Статистическуая значимость различий в среднем количестве заказов на посетителя между группами по «очищенным» данным"
   ]
  },
  {
   "cell_type": "markdown",
   "id": "8b69d096",
   "metadata": {
    "id": "8b69d096"
   },
   "source": [
    "Гипотеза:\n",
    "\n",
    "     Н0: Статистическая значимость различий в среднем количестве заказов на посетителя в \"очищенных данных\" отсутствует\n",
    "     Н1: Статистическая значимость различий в среднем количестве заказов на посетителя в \"очищенных данных\" присутствует"
   ]
  },
  {
   "cell_type": "code",
   "execution_count": null,
   "id": "872198c7",
   "metadata": {
    "id": "872198c7",
    "outputId": "dddd16c7-8e11-4b39-f8fb-b33a0b332001"
   },
   "outputs": [
    {
     "name": "stdout",
     "output_type": "stream",
     "text": [
      "Кол-во аномальных пользователей: 59\n",
      "Относительные потери: 5.7226\n"
     ]
    }
   ],
   "source": [
    "usersWithManyOrders = pd.concat(\n",
    "    [\n",
    "        ordersByUsersA[ordersByUsersA['transactionId'] > 4]['visitorId'],\n",
    "        ordersByUsersB[ordersByUsersB['transactionId'] > 4]['visitorId'],\n",
    "    ],\n",
    "    axis=0,\n",
    ")\n",
    "usersWithExpensiveOrders = orders[orders['revenue'] > 28000]['visitorId']\n",
    "abnormalUsers = (\n",
    "    pd.concat([usersWithManyOrders, usersWithExpensiveOrders], axis=0)\n",
    "    .drop_duplicates()\n",
    "    .sort_values()\n",
    ")\n",
    "print('Кол-во аномальных пользователей:',abnormalUsers.shape[0])\n",
    "print('Относительные потери:', round((abnormalUsers.count()/orders['visitorId'].nunique())* 100, 4))"
   ]
  },
  {
   "cell_type": "code",
   "execution_count": null,
   "id": "1bba2472",
   "metadata": {
    "id": "1bba2472"
   },
   "outputs": [],
   "source": [
    "sampleAFiltered = pd.concat([\n",
    "    ordersByUsersA[np.logical_not(ordersByUsersA['visitorId'].isin(abnormalUsers))]['transactionId'],\n",
    "    orders_by_non_purchased_users_A\n",
    "], axis = 0)\n",
    "sampleBFiltered = pd.concat([\n",
    "    ordersByUsersB[np.logical_not(ordersByUsersB['visitorId'].isin(abnormalUsers))]['transactionId'],\n",
    "    orders_by_non_purchased_users_B\n",
    "], axis = 0)"
   ]
  },
  {
   "cell_type": "code",
   "execution_count": null,
   "id": "d2d47eec",
   "metadata": {
    "id": "d2d47eec",
    "outputId": "96c0451d-8eef-4a50-b0a8-f91373e7b881"
   },
   "outputs": [
    {
     "name": "stdout",
     "output_type": "stream",
     "text": [
      "p-value,  0.01846\n",
      "Относительная разница величин: 0.145\n"
     ]
    }
   ],
   "source": [
    "print('p-value, ','{0:.5f}'.format(stats.mannwhitneyu(sampleAFiltered, sampleBFiltered)[1]))\n",
    "print('Относительная разница величин:' ,'{0:.3f}'.format(sampleBFiltered.mean()/sampleAFiltered.mean()-1))"
   ]
  },
  {
   "cell_type": "markdown",
   "id": "286904aa",
   "metadata": {
    "id": "286904aa"
   },
   "source": [
    "### Вывод"
   ]
  },
  {
   "cell_type": "markdown",
   "id": "632fed88",
   "metadata": {
    "id": "632fed88"
   },
   "source": [
    "p-value меньше Альфы. Значит мы отвергаем нулевую гипотезу.\n",
    "\n",
    "Статистическая значимость различий в среднем количестве заказов на посетителя в \"очищенных данных\" присутствует"
   ]
  },
  {
   "cell_type": "markdown",
   "id": "315cd2ec",
   "metadata": {
    "id": "315cd2ec"
   },
   "source": [
    "## Статистическая значимость различий в среднем чеке заказа между группами по «очищенным» данным"
   ]
  },
  {
   "cell_type": "code",
   "execution_count": null,
   "id": "81579408",
   "metadata": {
    "id": "81579408",
    "outputId": "a1aae6e7-908d-419f-8ee0-fe84510ff9e9"
   },
   "outputs": [
    {
     "name": "stdout",
     "output_type": "stream",
     "text": [
      "p-value,  0.961\n",
      "Относительная разница величин: -0.014\n"
     ]
    }
   ],
   "source": [
    "print('p-value, ',\n",
    "    '{0:.3f}'.format(\n",
    "        stats.mannwhitneyu(\n",
    "            orders[\n",
    "                np.logical_and(\n",
    "                    orders['group'] == 'A',\n",
    "                    np.logical_not(orders['visitorId'].isin(abnormalUsers)),\n",
    "                )\n",
    "            ]['revenue'],\n",
    "            orders[\n",
    "                np.logical_and(\n",
    "                    orders['group'] == 'B',\n",
    "                    np.logical_not(orders['visitorId'].isin(abnormalUsers)),\n",
    "                )\n",
    "            ]['revenue'],\n",
    "        )[1]\n",
    "    )\n",
    ")\n",
    "\n",
    "print('Относительная разница величин:' ,\n",
    "    \"{0:.3f}\".format(\n",
    "        orders[\n",
    "            np.logical_and(\n",
    "                orders['group'] == 'B',\n",
    "                np.logical_not(orders['visitorId'].isin(abnormalUsers)),\n",
    "            )\n",
    "        ]['revenue'].mean()\n",
    "        / orders[\n",
    "            np.logical_and(\n",
    "                orders['group'] == 'A',\n",
    "                np.logical_not(orders['visitorId'].isin(abnormalUsers)),\n",
    "            )\n",
    "        ]['revenue'].mean()\n",
    "        - 1\n",
    "    )\n",
    ")"
   ]
  },
  {
   "cell_type": "markdown",
   "id": "032930cf",
   "metadata": {
    "id": "032930cf"
   },
   "source": [
    "### Вывод"
   ]
  },
  {
   "cell_type": "markdown",
   "id": "00a5b711",
   "metadata": {
    "id": "00a5b711"
   },
   "source": [
    "p-value больше альфы, значит нулевую гипотезу не отвергаем. Разница в среднем чеке, в 14%, в пользу группы В. Аномалии довольно сильно исказили информацию о среднем чеке."
   ]
  },
  {
   "cell_type": "markdown",
   "id": "6963e09a",
   "metadata": {
    "id": "6963e09a"
   },
   "source": [
    "# Решение"
   ]
  },
  {
   "cell_type": "markdown",
   "id": "3b10c76e",
   "metadata": {
    "id": "3b10c76e"
   },
   "source": [
    "Варианты решений:\n",
    "1. Остановить тест, зафиксировать победу одной из групп.\n",
    "2. Остановить тест, зафиксировать отсутствие различий между группами.\n",
    "3. Продолжить тест."
   ]
  },
  {
   "cell_type": "markdown",
   "id": "9cea88a5",
   "metadata": {
    "id": "9cea88a5"
   },
   "source": [
    "Вывод заключается в том, что проведенный A/B-тест был корректным, и мы исключили возможность подглядывания в результаты сравнения групп. Показатели выручки, среднего чека и кол-ва заказов пользователей в группе B лидировали практически все время. Хотя некоторые сомнения возникли из-за резких колебаний в кумулятивном среднем чеке в группе B, очистка данных от аномальных пользователей показала, что разница между средними чеками стала минимальной. Однако, показатель кол-ва заказов пользователей в группе B оставался выше, как до, так и после очистки данных, и разница между группами была статистически значимой. Таким образом, мы можем заключить, что группа B победила, и мы можем остановить наш A/B-тест."
   ]
  },
  {
   "cell_type": "markdown",
   "id": "32517ef2",
   "metadata": {
    "id": "32517ef2"
   },
   "source": [
    "# Общий вывод"
   ]
  },
  {
   "cell_type": "markdown",
   "id": "ae41f1b4",
   "metadata": {
    "id": "ae41f1b4"
   },
   "source": [
    "Финализируем всю работу.\n",
    "\n",
    "Фреймоврки для определения приоритета проверки гипотез.\n",
    "\n",
    "Мы использовали 2 фрейморка: ICE and RICE. Различие их в том, что RICE использует в своих параметрах дополнительный параметр \"Охат\". А ICE не использует его. Охват мы можем оценить как с помощью наших метрик и данных, которыее есть у нас в компании, т.к. субьектив. В ICE же, все наши параметры субьективны. Из-за этого, RICE считается более точной моделью для приоретизации. И это можно увидеть и в нашем исследование.\n",
    "\n",
    "Возьмем первую гипотезу по ICE and RICE:\n",
    "1. ICE:Запустить акцию, дающую скидку на товар в день рождения\n",
    "2. RICE: Добавить форму подписки на все основные страницы, чтобы собрать базу клиентов для email-рассылок\n",
    "В ICE наша гипотеза нацелена на узкую аудиторию, но данная гипотеза выигрывает по уверенности, усилиям и затратам. Т.е. она не сложная, по этому она выбивается на первое место. Вопрос в том, какое колличество пользователей увидит данную фичу.\n",
    "В RICE же выигрывает гипотеза, которая затронет почти всех пользователей, и потенциально, даст больше конверсии.\n",
    "\n",
    "Про А/B тест:\n",
    "\n",
    "Были построены графики кумулятивной выручки и кумулятивного среднего чека для групп A и B. Оба графика показывают увеличение показателей со временем, однако график группы B имеет резкий скачок вверх примерно в середине периода.\n",
    "Также были построены графики относительного изменения кумулятивного среднего чека группы B к группе A, кумулятивной кол-ва заказов на пользователя по группам, и относительного изменения кумулятивной кол-ва заказов на пользователя. В начале теста группы A и B были примерно равными, но затем группа B вырвалась вперед, немного уменьшила конверсию, и стабилизировалась на определенном уровне.\n",
    "Точечный график количества заказов по пользователям и стоимостей заказов был использован для определения границ аномальных значений. Были посчитаны 95-й и 99-й перцентили количества заказов на пользователя и стоимости заказов. Были установлены точные границы для определения пользователей с аномальными значениями: те, у кого заказов больше 3х, и те, чьи покупки стоят более 28000 рублей.\n",
    "Были также рассчитаны статистические значимости различий в кол-ва заказов на пользователя и среднем чеке заказа между группами по \"сырым\" и \"очищенным\" данным. В первом случае, нулевая гипотеза о том, что в среднем чеке различий между группами нет, не была отвергнута, но второй случай группа B была статистически значимо лучше группы A по обеим метрикам. График кол-ва заказов на пользователя также подтверждает фиксацию результатов.\n",
    "В итоге, тест был остановлен и признан успешным, с установленной статистической значимостью группы B по сравнению с группой A по обеим метрикам."
   ]
  }
 ],
 "metadata": {
  "ExecuteTimeLog": [
   {
    "duration": 1210,
    "start_time": "2023-03-12T09:24:54.951Z"
   },
   {
    "duration": 68,
    "start_time": "2023-03-12T09:24:56.163Z"
   },
   {
    "duration": 358,
    "start_time": "2023-03-12T09:24:56.232Z"
   },
   {
    "duration": 39,
    "start_time": "2023-03-12T09:24:56.592Z"
   },
   {
    "duration": 1350,
    "start_time": "2023-03-12T09:24:56.633Z"
   },
   {
    "duration": 0,
    "start_time": "2023-03-12T09:24:57.986Z"
   },
   {
    "duration": 0,
    "start_time": "2023-03-12T09:24:57.988Z"
   },
   {
    "duration": 0,
    "start_time": "2023-03-12T09:24:57.989Z"
   },
   {
    "duration": 0,
    "start_time": "2023-03-12T09:24:57.990Z"
   },
   {
    "duration": 0,
    "start_time": "2023-03-12T09:24:57.992Z"
   },
   {
    "duration": 0,
    "start_time": "2023-03-12T09:24:57.993Z"
   },
   {
    "duration": 0,
    "start_time": "2023-03-12T09:24:57.994Z"
   },
   {
    "duration": 0,
    "start_time": "2023-03-12T09:24:57.995Z"
   },
   {
    "duration": 0,
    "start_time": "2023-03-12T09:24:57.997Z"
   },
   {
    "duration": 0,
    "start_time": "2023-03-12T09:24:57.998Z"
   },
   {
    "duration": 0,
    "start_time": "2023-03-12T09:24:58.000Z"
   },
   {
    "duration": 0,
    "start_time": "2023-03-12T09:24:58.001Z"
   },
   {
    "duration": 0,
    "start_time": "2023-03-12T09:24:58.003Z"
   },
   {
    "duration": 0,
    "start_time": "2023-03-12T09:24:58.004Z"
   },
   {
    "duration": 0,
    "start_time": "2023-03-12T09:24:58.006Z"
   },
   {
    "duration": 0,
    "start_time": "2023-03-12T09:24:58.007Z"
   },
   {
    "duration": 0,
    "start_time": "2023-03-12T09:24:58.009Z"
   },
   {
    "duration": 0,
    "start_time": "2023-03-12T09:24:58.011Z"
   },
   {
    "duration": 0,
    "start_time": "2023-03-12T09:24:58.012Z"
   },
   {
    "duration": 0,
    "start_time": "2023-03-12T09:24:58.014Z"
   },
   {
    "duration": 0,
    "start_time": "2023-03-12T09:24:58.015Z"
   },
   {
    "duration": 0,
    "start_time": "2023-03-12T09:24:58.016Z"
   },
   {
    "duration": 0,
    "start_time": "2023-03-12T09:24:58.017Z"
   },
   {
    "duration": 0,
    "start_time": "2023-03-12T09:24:58.019Z"
   },
   {
    "duration": 0,
    "start_time": "2023-03-12T09:24:58.020Z"
   },
   {
    "duration": 0,
    "start_time": "2023-03-12T09:24:58.021Z"
   },
   {
    "duration": 0,
    "start_time": "2023-03-12T09:24:58.022Z"
   },
   {
    "duration": 0,
    "start_time": "2023-03-12T09:24:58.023Z"
   },
   {
    "duration": 0,
    "start_time": "2023-03-12T09:24:58.057Z"
   },
   {
    "duration": 1,
    "start_time": "2023-03-12T09:24:58.058Z"
   },
   {
    "duration": 11,
    "start_time": "2023-03-12T09:27:18.353Z"
   },
   {
    "duration": 1196,
    "start_time": "2023-03-12T09:27:36.894Z"
   },
   {
    "duration": 77,
    "start_time": "2023-03-12T09:27:38.093Z"
   },
   {
    "duration": 287,
    "start_time": "2023-03-12T09:27:38.172Z"
   },
   {
    "duration": 51,
    "start_time": "2023-03-12T09:27:38.462Z"
   },
   {
    "duration": 13,
    "start_time": "2023-03-12T09:27:38.516Z"
   },
   {
    "duration": 42,
    "start_time": "2023-03-12T09:27:38.531Z"
   },
   {
    "duration": 17,
    "start_time": "2023-03-12T09:27:38.575Z"
   },
   {
    "duration": 10,
    "start_time": "2023-03-12T09:27:38.594Z"
   },
   {
    "duration": 16,
    "start_time": "2023-03-12T09:27:38.606Z"
   },
   {
    "duration": 5,
    "start_time": "2023-03-12T09:27:38.624Z"
   },
   {
    "duration": 35,
    "start_time": "2023-03-12T09:27:38.631Z"
   },
   {
    "duration": 10,
    "start_time": "2023-03-12T09:27:38.668Z"
   },
   {
    "duration": 170,
    "start_time": "2023-03-12T09:27:38.681Z"
   },
   {
    "duration": 26,
    "start_time": "2023-03-12T09:27:38.855Z"
   },
   {
    "duration": 334,
    "start_time": "2023-03-12T09:27:38.883Z"
   },
   {
    "duration": 353,
    "start_time": "2023-03-12T09:27:39.219Z"
   },
   {
    "duration": 13,
    "start_time": "2023-03-12T09:27:39.573Z"
   },
   {
    "duration": 266,
    "start_time": "2023-03-12T09:27:39.588Z"
   },
   {
    "duration": 367,
    "start_time": "2023-03-12T09:27:39.857Z"
   },
   {
    "duration": 285,
    "start_time": "2023-03-12T09:27:40.226Z"
   },
   {
    "duration": 471,
    "start_time": "2023-03-12T09:27:40.513Z"
   },
   {
    "duration": 9,
    "start_time": "2023-03-12T09:27:40.989Z"
   },
   {
    "duration": 215,
    "start_time": "2023-03-12T09:27:41.000Z"
   },
   {
    "duration": 7,
    "start_time": "2023-03-12T09:27:41.217Z"
   },
   {
    "duration": 228,
    "start_time": "2023-03-12T09:27:41.226Z"
   },
   {
    "duration": 192,
    "start_time": "2023-03-12T09:27:41.459Z"
   },
   {
    "duration": 6,
    "start_time": "2023-03-12T09:27:41.653Z"
   },
   {
    "duration": 66,
    "start_time": "2023-03-12T09:27:41.661Z"
   },
   {
    "duration": 17,
    "start_time": "2023-03-12T09:27:41.729Z"
   },
   {
    "duration": 194,
    "start_time": "2023-03-12T09:27:41.747Z"
   },
   {
    "duration": 57,
    "start_time": "2023-03-12T09:27:41.943Z"
   },
   {
    "duration": 14,
    "start_time": "2023-03-12T09:27:42.002Z"
   },
   {
    "duration": 11,
    "start_time": "2023-03-12T09:27:42.018Z"
   },
   {
    "duration": 28,
    "start_time": "2023-03-12T09:27:42.030Z"
   },
   {
    "duration": 46,
    "start_time": "2023-03-12T09:27:42.060Z"
   },
   {
    "duration": 19,
    "start_time": "2023-03-12T09:27:42.108Z"
   }
  ],
  "colab": {
   "provenance": []
  },
  "kernelspec": {
   "display_name": "Python 3 (ipykernel)",
   "language": "python",
   "name": "python3"
  },
  "language_info": {
   "codemirror_mode": {
    "name": "ipython",
    "version": 3
   },
   "file_extension": ".py",
   "mimetype": "text/x-python",
   "name": "python",
   "nbconvert_exporter": "python",
   "pygments_lexer": "ipython3",
   "version": "3.11.4"
  },
  "toc": {
   "base_numbering": 1,
   "nav_menu": {
    "height": "465.667px",
    "width": "353.667px"
   },
   "number_sections": true,
   "sideBar": true,
   "skip_h1_title": false,
   "title_cell": "Table of Contents",
   "title_sidebar": "Contents",
   "toc_cell": false,
   "toc_position": {},
   "toc_section_display": true,
   "toc_window_display": false
  }
 },
 "nbformat": 4,
 "nbformat_minor": 5
}
